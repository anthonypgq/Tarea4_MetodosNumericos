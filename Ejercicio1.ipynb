{
  "nbformat": 4,
  "nbformat_minor": 0,
  "metadata": {
    "colab": {
      "provenance": []
    },
    "kernelspec": {
      "name": "python3",
      "display_name": "Python 3"
    },
    "language_info": {
      "name": "python"
    }
  },
  "cells": [
    {
      "cell_type": "code",
      "execution_count": 1,
      "metadata": {
        "colab": {
          "base_uri": "https://localhost:8080/"
        },
        "id": "3BtArwKjfIt4",
        "outputId": "6c028c3a-5566-4338-85e4-62dff243db56"
      },
      "outputs": [
        {
          "output_type": "stream",
          "name": "stdout",
          "text": [
            "La raíz encontrada en el intervalo [0, 1] es x = 0.5859375 con una tolerancia de 0.01 después de 6 iteraciones\n",
            "La raíz encontrada en el intervalo [1, 3.2] es x = 3.0023437500000005 con una tolerancia de 0.01 después de 7 iteraciones\n",
            "La raíz encontrada en el intervalo [3.2, 4] es x = 3.41875 con una tolerancia de 0.01 después de 6 iteraciones\n"
          ]
        }
      ],
      "source": [
        "from typing import Callable\n",
        "\n",
        "# Definir la función f(x) = x^3 - 7x^2 + 14x - 6\n",
        "def f(x):\n",
        "    return x**3 - 7*x**2 + 14*x - 6\n",
        "\n",
        "# Función sign\n",
        "def sign(x: float) -> int:\n",
        "    if x > 0:\n",
        "        return 1\n",
        "    elif x < 0:\n",
        "        return -1\n",
        "    else:\n",
        "        return 0\n",
        "\n",
        "# Función de bisección\n",
        "def bisection(a: float, b: float, *, equation: Callable[[float], float], tol: float, N: int) -> tuple[float, float, float, int] | None:\n",
        "    i = 1\n",
        "\n",
        "    # Validación de entrada\n",
        "    assert a < b, \"a no es menor que b, el intervalo no es válido.\"\n",
        "    assert equation(a) * equation(b) < 0, \"La función no cambia de signo en el intervalo.\"\n",
        "\n",
        "    Fa = equation(a)\n",
        "    p = a  # para evitar error en i == 0.\n",
        "    for i in range(N):\n",
        "        p = a + (b - a) / 2\n",
        "        FP = equation(p)\n",
        "        if FP == 0 or (b - a) / 2 < tol:\n",
        "            return p, a, b, i\n",
        "\n",
        "        if sign(Fa) * sign(FP) > 0:\n",
        "            a = p\n",
        "            Fa = FP\n",
        "        else:\n",
        "            b = p\n",
        "\n",
        "    # Respuesta temporal\n",
        "    return p, a, b, i\n",
        "\n",
        "# Parámetros comunes\n",
        "tol = 1e-2\n",
        "N = 1000  # Número máximo de iteraciones\n",
        "\n",
        "# Intervalos dados\n",
        "intervals = [\n",
        "    (0, 1),    # Intervalo (a)\n",
        "    (1, 3.2),  # Intervalo (b)\n",
        "    (3.2, 4)   # Intervalo (c)\n",
        "]\n",
        "\n",
        "# Resolver para cada intervalo\n",
        "for a, b in intervals:\n",
        "    try:\n",
        "        root, a_final, b_final, iterations = bisection(a, b, equation=f, tol=tol, N=N)\n",
        "        print(f\"La raíz encontrada en el intervalo [{a}, {b}] es x = {root} con una tolerancia de {tol} después de {iterations} iteraciones\")\n",
        "    except AssertionError as e:\n",
        "        print(f\"No se pudo encontrar una raíz en el intervalo [{a}, {b}]: {e}\")\n"
      ]
    }
  ]
}
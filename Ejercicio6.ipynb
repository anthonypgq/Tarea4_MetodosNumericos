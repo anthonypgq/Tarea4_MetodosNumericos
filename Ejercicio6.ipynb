{
  "nbformat": 4,
  "nbformat_minor": 0,
  "metadata": {
    "colab": {
      "provenance": []
    },
    "kernelspec": {
      "name": "python3",
      "display_name": "Python 3"
    },
    "language_info": {
      "name": "python"
    }
  },
  "cells": [
    {
      "cell_type": "code",
      "source": [
        "import numpy as np\n",
        "\n",
        "# Parámetros dados\n",
        "L = 10  # cm\n",
        "r = 1   # cm\n",
        "V_target = 12.4  # cm^3\n",
        "\n",
        "# Función del volumen en términos de h\n",
        "def volume(h):\n",
        "    term1 = 0.5 * np.pi * r**2\n",
        "    term2 = r**2 * np.arcsin(h / r)\n",
        "    term3 = h * np.sqrt(r**2 - h**2)\n",
        "    return L * (term1 - term2 - term3)\n",
        "\n",
        "# Función que queremos resolver V(h) - V_target = 0\n",
        "def equation(h):\n",
        "    return volume(h) - V_target\n"
      ],
      "metadata": {
        "id": "zJKCITN4ka4j"
      },
      "execution_count": 9,
      "outputs": []
    },
    {
      "cell_type": "code",
      "source": [
        "# Función sign\n",
        "def sign(x: float) -> int:\n",
        "    if x > 0:\n",
        "        return 1\n",
        "    elif x < 0:\n",
        "        return -1\n",
        "    else:\n",
        "        return 0\n",
        "\n",
        "# Función de bisección\n",
        "def bisection(a: float, b: float, *, equation: Callable[[float], float], tol: float, N: int) -> tuple[float, float, float, int] | None:\n",
        "    i = 1\n",
        "\n",
        "    # Validación de entrada\n",
        "    assert a < b, \"a no es menor que b, el intervalo no es válido.\"\n",
        "    assert equation(a) * equation(b) < 0, \"La función no cambia de signo en el intervalo.\"\n",
        "\n",
        "    Fa = equation(a)\n",
        "    p = a  # para evitar error en i == 0.\n",
        "    for i in range(N):\n",
        "        p = a + (b - a) / 2\n",
        "        FP = equation(p)\n",
        "        if FP == 0 or (b - a) / 2 < tol:\n",
        "            return p, a, b, i\n",
        "\n",
        "        if sign(Fa) * sign(FP) > 0:\n",
        "            a = p\n",
        "            Fa = FP\n",
        "        else:\n",
        "            b = p\n",
        "\n",
        "    # Respuesta temporal\n",
        "    return p, a, b, i\n",
        "\n",
        "# Intervalo inicial (debe estar dentro del rango físico posible)\n",
        "a = 0  # h mínimo\n",
        "b = r  # h máximo (no puede ser mayor que el radio)\n",
        "\n",
        "# Tolerancia y número máximo de iteraciones\n",
        "tol = 0.01\n",
        "N = 1000\n",
        "\n",
        "# Aplicar el método de bisección\n",
        "root, a_final, b_final, iterations = bisection(a, b, equation=equation, tol=tol, N=N)\n",
        "print(f\"La profundidad del agua es h = {root} cm con una tolerancia de {tol} después de {iterations} iteraciones\")\n"
      ],
      "metadata": {
        "colab": {
          "base_uri": "https://localhost:8080/"
        },
        "id": "8SJw1Mlxkbrg",
        "outputId": "55d2a9af-40ab-457b-d727-c2156e2d2bb6"
      },
      "execution_count": 10,
      "outputs": [
        {
          "output_type": "stream",
          "name": "stdout",
          "text": [
            "La profundidad del agua es h = 0.1640625 cm con una tolerancia de 0.01 después de 6 iteraciones\n"
          ]
        }
      ]
    },
    {
      "cell_type": "code",
      "source": [],
      "metadata": {
        "id": "myvwD35OklNs"
      },
      "execution_count": null,
      "outputs": []
    }
  ]
}
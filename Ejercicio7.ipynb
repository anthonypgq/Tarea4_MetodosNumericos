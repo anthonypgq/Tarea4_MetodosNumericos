{
  "nbformat": 4,
  "nbformat_minor": 0,
  "metadata": {
    "colab": {
      "provenance": []
    },
    "kernelspec": {
      "name": "python3",
      "display_name": "Python 3"
    },
    "language_info": {
      "name": "python"
    }
  },
  "cells": [
    {
      "cell_type": "code",
      "source": [
        "import numpy as np\n",
        "\n",
        "# Parámetros dados\n",
        "s0 = 300  # m\n",
        "m = 0.25  # kg\n",
        "g = 9.81  # m/s^2\n",
        "k = 0.1   # Ns/m\n",
        "\n",
        "# Función de altura s(t)\n",
        "def height(t):\n",
        "    term1 = s0\n",
        "    term2 = (m * g / k) * t\n",
        "    term3 = (m**2 * g / k**2) * (1 - np.exp(-k * t / m))\n",
        "    return term1 - term2 + term3\n",
        "\n",
        "# Función que queremos resolver s(t) = 0\n",
        "def equation(t):\n",
        "    return height(t)\n"
      ],
      "metadata": {
        "id": "gLPRPLWAnvF1"
      },
      "execution_count": 11,
      "outputs": []
    },
    {
      "cell_type": "code",
      "source": [
        "# Método de bisección modificado para este problema\n",
        "def bisection(a, b, *, equation, tol, N):\n",
        "    i = 1\n",
        "\n",
        "    # Validación de entrada\n",
        "    assert a < b, \"a no es menor que b, el intervalo no es válido.\"\n",
        "    assert equation(a) * equation(b) < 0, \"La función no cambia de signo en el intervalo.\"\n",
        "\n",
        "    Fa = equation(a)\n",
        "    p = a  # para evitar error en i == 0.\n",
        "    for i in range(N):\n",
        "        p = a + (b - a) / 2\n",
        "        FP = equation(p)\n",
        "        if FP == 0 or (b - a) / 2 < tol:\n",
        "            return p, a, b, i\n",
        "\n",
        "        if np.sign(Fa) * np.sign(FP) > 0:\n",
        "            a = p\n",
        "            Fa = FP\n",
        "        else:\n",
        "            b = p\n",
        "\n",
        "    # Respuesta temporal\n",
        "    return p, a, b, i\n",
        "\n",
        "# Intervalo inicial (debe estar dentro del rango físico posible)\n",
        "a = 0  # t mínimo\n",
        "b = 100  # t máximo (estimado, ajustar si es necesario)\n",
        "\n",
        "# Tolerancia y número máximo de iteraciones\n",
        "tol = 0.01\n",
        "N = 1000\n",
        "\n",
        "# Aplicar el método de bisección\n",
        "root, a_final, b_final, iterations = bisection(a, b, equation=equation, tol=tol, N=N)\n",
        "print(f\"El tiempo en que el objeto golpea el suelo es t = {root:.2f} segundos con una tolerancia de {tol} después de {iterations} iteraciones\")\n"
      ],
      "metadata": {
        "colab": {
          "base_uri": "https://localhost:8080/"
        },
        "id": "6czk_neYnvyg",
        "outputId": "151ee09a-ad24-4a5c-93bf-0cc21b6a058e"
      },
      "execution_count": 12,
      "outputs": [
        {
          "output_type": "stream",
          "name": "stdout",
          "text": [
            "El tiempo en que el objeto golpea el suelo es t = 14.73 segundos con una tolerancia de 0.01 después de 13 iteraciones\n"
          ]
        }
      ]
    },
    {
      "cell_type": "code",
      "source": [],
      "metadata": {
        "id": "hLFMVGWQnygU"
      },
      "execution_count": null,
      "outputs": []
    }
  ]
}
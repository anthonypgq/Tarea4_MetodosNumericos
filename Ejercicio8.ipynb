{
  "nbformat": 4,
  "nbformat_minor": 0,
  "metadata": {
    "colab": {
      "provenance": []
    },
    "kernelspec": {
      "name": "python3",
      "display_name": "Python 3"
    },
    "language_info": {
      "name": "python"
    }
  },
  "cells": [
    {
      "cell_type": "code",
      "source": [
        "import numpy as np\n",
        "\n",
        "# Definimos la función dada\n",
        "def f(x):\n",
        "    return x**3 - x - 1\n",
        "\n",
        "# Método de bisección\n",
        "def bisection(a, b, *, equation, tol, N):\n",
        "    i = 1\n",
        "\n",
        "    # Validación de entrada\n",
        "    assert a < b, \"a no es menor que b, el intervalo no es válido.\"\n",
        "    assert equation(a) * equation(b) < 0, \"La función no cambia de signo en el intervalo.\"\n",
        "\n",
        "    Fa = equation(a)\n",
        "    p = a  # para evitar error en i == 0.\n",
        "    for i in range(N):\n",
        "        p = a + (b - a) / 2\n",
        "        FP = equation(p)\n",
        "        if FP == 0 or (b - a) / 2 < tol:\n",
        "            return p, a, b, i\n",
        "\n",
        "        if np.sign(Fa) * np.sign(FP) > 0:\n",
        "            a = p\n",
        "            Fa = FP\n",
        "        else:\n",
        "            b = p\n",
        "\n",
        "    # Respuesta temporal\n",
        "    return p, a, b, i\n",
        "\n",
        "# Intervalo inicial [1, 2]\n",
        "a = 1\n",
        "b = 2\n",
        "\n",
        "# Tolerancia y número máximo de iteraciones\n",
        "tol = 10**-4\n",
        "N = 1000\n",
        "\n",
        "# Aplicar el método de bisección\n",
        "root, a_final, b_final, iterations = bisection(a, b, equation=f, tol=tol, N=N)\n",
        "print(f\"La raíz aproximada es t = {root:.4f} con una tolerancia de {tol} después de {iterations} iteraciones\")\n"
      ],
      "metadata": {
        "colab": {
          "base_uri": "https://localhost:8080/"
        },
        "id": "hLFMVGWQnygU",
        "outputId": "f86c3dc1-50a7-4532-fbec-7e35650ccbe5"
      },
      "execution_count": 13,
      "outputs": [
        {
          "output_type": "stream",
          "name": "stdout",
          "text": [
            "La raíz aproximada es t = 1.3248 con una tolerancia de 0.0001 después de 13 iteraciones\n"
          ]
        }
      ]
    }
  ]
}
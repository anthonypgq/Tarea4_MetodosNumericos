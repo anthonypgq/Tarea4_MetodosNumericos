{
  "nbformat": 4,
  "nbformat_minor": 0,
  "metadata": {
    "colab": {
      "provenance": []
    },
    "kernelspec": {
      "name": "python3",
      "display_name": "Python 3"
    },
    "language_info": {
      "name": "python"
    }
  },
  "cells": [
    {
      "cell_type": "code",
      "source": [
        "import numpy as np\n",
        "\n",
        "def f(x):\n",
        "    return np.sin(np.pi * x)\n",
        "\n",
        "def bisection(a, b, *, equation, tol=1e-5, N=1000):\n",
        "    assert a < b, \"a no es menor que b, el intervalo no es válido.\"\n",
        "    assert equation(a) * equation(b) < 0, \"La función no cambia de signo en el intervalo.\"\n",
        "\n",
        "    Fa = equation(a)\n",
        "    for i in range(N):\n",
        "        p = (a + b) / 2\n",
        "        FP = equation(p)\n",
        "        if FP == 0 or (b - a) / 2 < tol:\n",
        "            return p, i\n",
        "\n",
        "        if np.sign(Fa) * np.sign(FP) > 0:\n",
        "            a = p\n",
        "            Fa = FP\n",
        "        else:\n",
        "            b = p\n",
        "\n",
        "    return p, i\n",
        "\n",
        "# Parámetros\n",
        "tol = 1e-5\n",
        "N = 1000\n",
        "\n",
        "# Caso a: a + b < 2\n",
        "a = -0.5\n",
        "b = 1.0\n",
        "root, iterations = bisection(a, b, equation=f, tol=tol, N=N)\n",
        "print(f\"Caso a: La raíz aproximada es x = {root:.5f} después de {iterations} iteraciones\")\n",
        "\n",
        "# Caso b: a + b > 2\n",
        "a = 1.5\n",
        "b = 2.5\n",
        "root, iterations = bisection(a, b, equation=f, tol=tol, N=N)\n",
        "print(f\"Caso b: La raíz aproximada es x = {root:.5f} después de {iterations} iteraciones\")\n",
        "\n",
        "# Caso c: a + b = 2\n",
        "a = 0.5\n",
        "b = 1.5\n",
        "root, iterations = bisection(a, b, equation=f, tol=tol, N=N)\n",
        "print(f\"Caso c: La raíz aproximada es x = {root:.5f} después de {iterations} iteraciones\")\n"
      ],
      "metadata": {
        "colab": {
          "base_uri": "https://localhost:8080/"
        },
        "id": "dtHw8PVh9s_Q",
        "outputId": "6dacf4ff-17ed-4177-b9d9-ff9b6eb3e8e6"
      },
      "execution_count": 15,
      "outputs": [
        {
          "output_type": "stream",
          "name": "stdout",
          "text": [
            "Caso a: La raíz aproximada es x = -0.00000 después de 17 iteraciones\n",
            "Caso b: La raíz aproximada es x = 2.00001 después de 16 iteraciones\n",
            "Caso c: La raíz aproximada es x = 1.00001 después de 16 iteraciones\n"
          ]
        }
      ]
    }
  ]
}
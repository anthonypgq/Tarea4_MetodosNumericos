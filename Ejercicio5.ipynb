{
  "nbformat": 4,
  "nbformat_minor": 0,
  "metadata": {
    "colab": {
      "provenance": []
    },
    "kernelspec": {
      "name": "python3",
      "display_name": "Python 3"
    },
    "language_info": {
      "name": "python"
    }
  },
  "cells": [
    {
      "cell_type": "code",
      "source": [
        "import numpy as np\n",
        "\n",
        "# Definir la función f(x)\n",
        "def f(x):\n",
        "    return (x + 3) * (x + 1)**2 * (x - 1)**3 * (x - 3)\n",
        "\n",
        "# Función sign\n",
        "def sign(x: float) -> int:\n",
        "    if x > 0:\n",
        "        return 1\n",
        "    elif x < 0:\n",
        "        return -1\n",
        "    else:\n",
        "        return 0\n",
        "\n",
        "# Función de bisección\n",
        "def bisection(a: float, b: float, *, equation: Callable[[float], float], tol: float, N: int) -> tuple[float, float, float, int] | None:\n",
        "    i = 1\n",
        "\n",
        "    # Validación de entrada\n",
        "    assert a < b, \"a no es menor que b, el intervalo no es válido.\"\n",
        "    assert equation(a) * equation(b) < 0, \"La función no cambia de signo en el intervalo.\"\n",
        "\n",
        "    Fa = equation(a)\n",
        "    p = a  # para evitar error en i == 0.\n",
        "    for i in range(N):\n",
        "        p = a + (b - a) / 2\n",
        "        FP = equation(p)\n",
        "        if FP == 0 or (b - a) / 2 < tol:\n",
        "            return p, a, b, i\n",
        "\n",
        "        if sign(Fa) * sign(FP) > 0:\n",
        "            a = p\n",
        "            Fa = FP\n",
        "        else:\n",
        "            b = p\n",
        "\n",
        "    # Respuesta temporal\n",
        "    return p, a, b, i\n",
        "\n",
        "# Definir los intervalos\n",
        "intervalos = [\n",
        "    (-1.5, 2.5),  # a\n",
        "    (-0.5, 2.4),  # b\n",
        "    (-0.5, 3.0),  # c\n",
        "    (-3.0, -0.5)  # d\n",
        "]\n",
        "\n",
        "# Tolerancia y número máximo de iteraciones\n",
        "tol = 1e-5\n",
        "N = 1000\n",
        "\n",
        "# Aplicar el método de bisección a cada intervalo\n",
        "for i, (a, b) in enumerate(intervalos):\n",
        "    try:\n",
        "        root, a_final, b_final, iterations = bisection(a, b, equation=f, tol=tol, N=N)\n",
        "        print(f\"Intervalo {chr(97 + i)} [{a}, {b}]: La raíz encontrada es x = {root} con una tolerancia de {tol} después de {iterations} iteraciones\")\n",
        "    except AssertionError as e:\n",
        "        print(f\"Intervalo {chr(97 + i)} [{a}, {b}]: {e}\")\n"
      ],
      "metadata": {
        "colab": {
          "base_uri": "https://localhost:8080/"
        },
        "id": "tuey8VJXij4H",
        "outputId": "fd626d16-36af-4137-9838-3db188c17abe"
      },
      "execution_count": 8,
      "outputs": [
        {
          "output_type": "stream",
          "name": "stdout",
          "text": [
            "Intervalo a [-1.5, 2.5]: La raíz encontrada es x = 1.0 con una tolerancia de 1e-05 después de 2 iteraciones\n",
            "Intervalo b [-0.5, 2.4]: La raíz encontrada es x = 0.9999975204467773 con una tolerancia de 1e-05 después de 18 iteraciones\n",
            "Intervalo c [-0.5, 3.0]: La función no cambia de signo en el intervalo.\n",
            "Intervalo d [-3.0, -0.5]: La función no cambia de signo en el intervalo.\n"
          ]
        }
      ]
    }
  ]
}